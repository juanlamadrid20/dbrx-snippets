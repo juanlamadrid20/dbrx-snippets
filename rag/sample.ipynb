{
 "cells": [
  {
   "cell_type": "code",
   "execution_count": 2,
   "metadata": {},
   "outputs": [],
   "source": [
    "# Use the current user name to create any necesary resources\n",
    "from databricks.sdk import WorkspaceClient\n",
    "w = WorkspaceClient()\n",
    "user_name = w.current_user.me().user_name.split(\"@\")[0].replace(\".\", \"\")\n",
    "\n",
    "# UC Catalog & Schema where outputs tables/indexs are saved\n",
    "# If this catalog/schema does not exist, you need create catalog/schema permissions.\n",
    "UC_CATALOG = f'juan_dev'\n",
    "UC_SCHEMA = f'data_science'\n",
    "\n",
    "# UC Model name where the POC chain is logged\n",
    "UC_MODEL_NAME = f\"{UC_CATALOG}.{UC_SCHEMA}.{user_name}_agent_quick_start\"\n",
    "\n",
    "# Vector Search endpoint where index is loaded\n",
    "# If this does not exist, it will be created\n",
    "VECTOR_SEARCH_ENDPOINT = f'{user_name}_vector_search'"
   ]
  },
  {
   "cell_type": "code",
   "execution_count": null,
   "metadata": {},
   "outputs": [],
   "source": [
    "# Create feature table using Feature Engineering Client\n",
    "from databricks.feature_engineering import FeatureEngineeringClient\n",
    "from pyspark.sql.functions import col\n",
    "fe = FeatureEngineeringClient()\n",
    "\n",
    "# UC Catalog & Schema where outputs tables/indexs are saved\n",
    "# If this catalog/schema does not exist, you need create catalog/schema permissions.\n",
    "UC_CATALOG = f'juan_dev'\n",
    "UC_SCHEMA = f'data_science'\n",
    "\n",
    "# Define sample data schema and features\n",
    "feature_table_name = f\"{UC_CATALOG}.{UC_SCHEMA}.{user_name}_sample_features\"\n",
    "\n",
    "# Create a sample DataFrame with features\n",
    "sample_data = spark.createDataFrame([\n",
    "    (\"1\", \"2024-01-01 00:00:00\", [1.0, 2.0, 3.0]),\n",
    "    (\"2\", \"2024-01-01 00:00:00\", [4.0, 5.0, 6.0])\n",
    "], [\"id\", \"timestamp\", \"features\"]).withColumn(\"timestamp\", col(\"timestamp\").cast(\"timestamp\"))\n",
    "\n",
    "# Create the feature table\n",
    "fe.create_table(\n",
    "    name=feature_table_name,\n",
    "    primary_keys=[\"id\", \"timestamp\"],\n",
    "    timestamp_keys=[\"timestamp\"],\n",
    "    df=sample_data,\n",
    "    description=\"Sample feature table with vector features\",\n",
    "    tags={\"created_by\": user_name}\n",
    ")"
   ]
  },
  {
   "cell_type": "code",
   "execution_count": null,
   "metadata": {},
   "outputs": [],
   "source": []
  }
 ],
 "metadata": {
  "kernelspec": {
   "display_name": ".venv",
   "language": "python",
   "name": "python3"
  },
  "language_info": {
   "codemirror_mode": {
    "name": "ipython",
    "version": 3
   },
   "file_extension": ".py",
   "mimetype": "text/x-python",
   "name": "python",
   "nbconvert_exporter": "python",
   "pygments_lexer": "ipython3",
   "version": "3.12.1"
  }
 },
 "nbformat": 4,
 "nbformat_minor": 2
}
